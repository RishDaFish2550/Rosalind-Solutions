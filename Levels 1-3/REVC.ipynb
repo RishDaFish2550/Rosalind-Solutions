{
 "cells": [
  {
   "cell_type": "markdown",
   "metadata": {},
   "source": [
    "# Complementing a Strand of DNA\n",
    "Given: A DNA string s of length at most 1000 bp.\\\n",
    "Return: The reverse complement c of s."
   ]
  },
  {
   "cell_type": "code",
   "execution_count": 4,
   "metadata": {},
   "outputs": [
    {
     "data": {
      "text/plain": [
       "'TGGCCCAAAA'"
      ]
     },
     "execution_count": 4,
     "metadata": {},
     "output_type": "execute_result"
    }
   ],
   "source": [
    "dna = 'AAAACCCGGT'\n",
    "rev_dna =''.join(reversed(dna))\n",
    "rev_dna #reveresed parent strand"
   ]
  },
  {
   "cell_type": "code",
   "execution_count": 10,
   "metadata": {},
   "outputs": [
    {
     "data": {
      "text/plain": [
       "'ACCGGGTTTT'"
      ]
     },
     "execution_count": 10,
     "metadata": {},
     "output_type": "execute_result"
    }
   ],
   "source": [
    "rev_cdna=''\n",
    "for base in rev_dna:\n",
    "    if base=='A':\n",
    "        rev_cdna += 'T'\n",
    "    elif base=='G':\n",
    "        rev_cdna += 'C'\n",
    "    elif base=='C':\n",
    "        rev_cdna += 'G'\n",
    "    elif base=='T':\n",
    "        rev_cdna += 'A'\n",
    "\n",
    "rev_cdna #complementary parent strand"
   ]
  }
 ],
 "metadata": {
  "kernelspec": {
   "display_name": "Python 3",
   "language": "python",
   "name": "python3"
  },
  "language_info": {
   "codemirror_mode": {
    "name": "ipython",
    "version": 3
   },
   "file_extension": ".py",
   "mimetype": "text/x-python",
   "name": "python",
   "nbconvert_exporter": "python",
   "pygments_lexer": "ipython3",
   "version": "3.12.1"
  }
 },
 "nbformat": 4,
 "nbformat_minor": 2
}
