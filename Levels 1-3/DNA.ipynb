{
 "cells": [
  {
   "cell_type": "markdown",
   "metadata": {},
   "source": [
    "# Counting DNA Nucleotides\n",
    "\n",
    "Given: A DNA string s of length at most 1000 nt.\n",
    "Return: Four integers (separated by spaces) counting the respective number of times that the symbols 'A', 'C', 'G', and 'T' occur in s."
   ]
  },
  {
   "cell_type": "code",
   "execution_count": 3,
   "metadata": {},
   "outputs": [
    {
     "data": {
      "text/plain": [
       "'20 12 17 21'"
      ]
     },
     "execution_count": 3,
     "metadata": {},
     "output_type": "execute_result"
    }
   ],
   "source": [
    "def count_nt(seq):\n",
    "    num_A=0\n",
    "    num_G=0\n",
    "    num_C=0\n",
    "    num_T=0\n",
    "    for nt in seq:\n",
    "        if nt == 'A':\n",
    "            num_A+=1\n",
    "        elif nt == 'G':\n",
    "            num_G+=1\n",
    "        elif nt == 'C':\n",
    "            num_C+=1\n",
    "        elif nt == 'T':\n",
    "            num_T+=1\n",
    "    output = f'{num_A} {num_C} {num_G} {num_T}'\n",
    "    return output\n",
    "\n",
    "dna='AGCTTTTCATTCTGACTGCAACGGGCAATATGTCTCTGTGTGGATTAAAAAAAGAGTGTCTGATAGCAGC'\n",
    "count_nt(dna)"
   ]
  }
 ],
 "metadata": {
  "kernelspec": {
   "display_name": "Python 3",
   "language": "python",
   "name": "python3"
  },
  "language_info": {
   "codemirror_mode": {
    "name": "ipython",
    "version": 3
   },
   "file_extension": ".py",
   "mimetype": "text/x-python",
   "name": "python",
   "nbconvert_exporter": "python",
   "pygments_lexer": "ipython3",
   "version": "3.12.1"
  }
 },
 "nbformat": 4,
 "nbformat_minor": 2
}
