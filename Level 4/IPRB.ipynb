{
 "cells": [
  {
   "cell_type": "markdown",
   "metadata": {},
   "source": [
    "# Mendel's First Law\n",
    "Given: Three positive integers k, m, and n, representing a population containing k+m+norganisms:\n",
    "* k individuals are homozygous dominant for a factor\n",
    "* m are heterozygous\n",
    "* n are homozygous recessive.\n",
    "\n",
    "Return: The probability that two randomly selected mating organisms will produce an individual possessing a dominant allele (and thus displaying the dominant phenotype). Assume that any two organisms can mate."
   ]
  },
  {
   "cell_type": "markdown",
   "metadata": {},
   "source": [
    "This problem is an excerise in mathematics rather than programming. Using the principles of probablity, we can find an expression for the probability that the offspring of 2 randomly selected parents will have the dominant phenotype.\n",
    "\n",
    "For simplicty, let's call the homozygous dominant, heterozygous, and homozygous recessive induviduals a,b, and c respectively.\n",
    "\n",
    "To find that probabilty that 2 random, parents will have a child with the dominant phenotype, let's first begin by listing out all possible cases of parent combinations:\n",
    "> aa\n",
    "> bb\n",
    "> cc\n",
    "> ab\n",
    "> bc\n",
    "> ac\n",
    "\n",
    "\n"
   ]
  },
  {
   "cell_type": "code",
   "execution_count": null,
   "metadata": {},
   "outputs": [],
   "source": [
    "def p(k,m,n):\n",
    "    t = k+m+n"
   ]
  }
 ],
 "metadata": {
  "language_info": {
   "name": "python"
  }
 },
 "nbformat": 4,
 "nbformat_minor": 2
}
