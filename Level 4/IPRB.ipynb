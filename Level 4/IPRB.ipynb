{
 "cells": [
  {
   "cell_type": "markdown",
   "metadata": {},
   "source": [
    "# Mendel's First Law\n",
    "Given: Three positive integers k, m, and n, representing a population containing k+m+norganisms:\n",
    "* k individuals are homozygous dominant for a factor\n",
    "* m are heterozygous\n",
    "* n are homozygous recessive.\n",
    "\n",
    "Return: The probability that two randomly selected mating organisms will produce an individual possessing a dominant allele (and thus displaying the dominant phenotype). Assume that any two organisms can mate."
   ]
  },
  {
   "cell_type": "markdown",
   "metadata": {},
   "source": [
    "This problem is an excerise in mathematics rather than programming. Using the principles of probablity, we can find an expression for the probability that the offspring of 2 randomly selected parents will have the dominant phenotype.\n",
    "\n",
    "For simplicty, let's call the homozygous dominant, heterozygous, and homozygous recessive induviduals a,b, and c respectively.\n",
    "\n",
    "To find that probabilty that 2 random, parents will have a child with the dominant phenotype, let's first begin by listing out all possible combinations of parents:\n",
    "> aa\n",
    "> bb\n",
    "> cc\n",
    "> ab\n",
    "> bc\n",
    "> ac\n",
    "\n",
    "We can then calculate the probability that a child has the dominant phenotype for each combination of parents using punnett squares:\n",
    "> p(D|aa) = 1\n",
    "> p(D|ab) = 1\n",
    "> p(D|ac) = 1\n",
    "> p(D|bb) = 0.75\n",
    "> p(D|bc) = 0.5\n",
    "> p(D|cc) = 0\n",
    "\n",
    "Then the probability that any 2 randomly selected parents have an offspring with the dominant phenotype is the sum of the product of the probablity of a particular combination of parents and the probability of that combination producing a dominant child. Here, let t = k+m+n.\n",
    "> p(aa)p(D|aa) = (k/t)(k-1)/(t-1)\n",
    "> p(ab)p(D|ab) = 1\n",
    "> p(ac)p(D|ac) = 1\n",
    "> p(bb)p(D|bb) = 0.75\n",
    "> p(bc)p(D|bc) = 0.5\n",
    "> p(cc)p(D|cc) = 0\n",
    "\n",
    "\n",
    "\n",
    "\n"
   ]
  },
  {
   "cell_type": "code",
   "execution_count": null,
   "metadata": {},
   "outputs": [],
   "source": [
    "def p(k,m,n):\n",
    "    t = k+m+n"
   ]
  }
 ],
 "metadata": {
  "language_info": {
   "name": "python"
  }
 },
 "nbformat": 4,
 "nbformat_minor": 2
}
