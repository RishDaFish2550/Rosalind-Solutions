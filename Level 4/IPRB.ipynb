{
 "cells": [
  {
   "cell_type": "markdown",
   "metadata": {},
   "source": [
    "# Mendel's First Law\n",
    "Given: Three positive integers k, m, and n, representing a population containing k+m+norganisms: \n",
    "    k individuals are homozygous dominant for a factor \n",
    "    m are heterozygous \n",
    "    n are homozygous recessive./\n",
    "Return: The probability that two randomly selected mating organisms will produce an individual possessing a dominant allele (and thus displaying the dominant phenotype). Assume that any two organisms can mate."
   ]
  },
  {
   "cell_type": "code",
   "execution_count": null,
   "metadata": {},
   "outputs": [],
   "source": [
    "def p(k,m,n):\n",
    "    t = k+m+n"
   ]
  }
 ],
 "metadata": {
  "language_info": {
   "name": "python"
  }
 },
 "nbformat": 4,
 "nbformat_minor": 2
}
