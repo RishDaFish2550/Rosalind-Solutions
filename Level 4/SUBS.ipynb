{
 "cells": [
  {
   "cell_type": "markdown",
   "metadata": {},
   "source": [
    "# Finding a Motif in DNA\n",
    "Given: Two DNA strings s and t (each of length at most 1 kbp).\\\n",
    "Return: All locations of t as a substring of s.\n"
   ]
  },
  {
   "cell_type": "code",
   "execution_count": 16,
   "metadata": {},
   "outputs": [
    {
     "data": {
      "text/plain": [
       "'2 4 10 18 '"
      ]
     },
     "execution_count": 16,
     "metadata": {},
     "output_type": "execute_result"
    }
   ],
   "source": [
    "def find_motif(s,t):\n",
    "    result=''\n",
    "    j = len(t)\n",
    "    for i in range(len(s)-len(t)+1): #there is no point in checking for a match if the currect slice is smaller that the size of t\n",
    "        if s[i:i+j] == t:\n",
    "            result += f'{i+1} ' #since python begins indexing at 0 and we want to count from 1\n",
    "    return result\n",
    "\n",
    "s = 'GATATATGCATATACTTATAT'\n",
    "t = 'ATAT'\n",
    "\n",
    "find_motif(s,t)"
   ]
  }
 ],
 "metadata": {
  "kernelspec": {
   "display_name": "Python 3",
   "language": "python",
   "name": "python3"
  },
  "language_info": {
   "codemirror_mode": {
    "name": "ipython",
    "version": 3
   },
   "file_extension": ".py",
   "mimetype": "text/x-python",
   "name": "python",
   "nbconvert_exporter": "python",
   "pygments_lexer": "ipython3",
   "version": "3.12.1"
  }
 },
 "nbformat": 4,
 "nbformat_minor": 2
}
