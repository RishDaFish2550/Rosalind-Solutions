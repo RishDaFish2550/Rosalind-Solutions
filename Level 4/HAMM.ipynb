{
 "cells": [
  {
   "cell_type": "markdown",
   "metadata": {},
   "source": [
    "# Counting Point Mutations\n",
    "Given: Two DNA strings s and t of equal length (not exceeding 1 kbp).\\\n",
    "Return: The Hamming distance dH(s,t)."
   ]
  },
  {
   "cell_type": "code",
   "execution_count": 2,
   "metadata": {},
   "outputs": [
    {
     "data": {
      "text/plain": [
       "7"
      ]
     },
     "execution_count": 2,
     "metadata": {},
     "output_type": "execute_result"
    }
   ],
   "source": [
    "def get_hd(s,t):\n",
    "    hd=0\n",
    "    for a,b in zip(s,t):\n",
    "        if a != b:\n",
    "            hd+=1\n",
    "    return hd\n",
    "\n",
    "s = 'GAGCCTACTAACGGGAT'\n",
    "t = 'CATCGTAATGACGGCCT'\n",
    "get_hd(s,t)\n"
   ]
  }
 ],
 "metadata": {
  "kernelspec": {
   "display_name": "Python 3",
   "language": "python",
   "name": "python3"
  },
  "language_info": {
   "codemirror_mode": {
    "name": "ipython",
    "version": 3
   },
   "file_extension": ".py",
   "mimetype": "text/x-python",
   "name": "python",
   "nbconvert_exporter": "python",
   "pygments_lexer": "ipython3",
   "version": "3.12.1"
  }
 },
 "nbformat": 4,
 "nbformat_minor": 2
}
